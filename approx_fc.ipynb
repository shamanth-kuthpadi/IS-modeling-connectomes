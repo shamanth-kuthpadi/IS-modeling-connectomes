{
 "cells": [
  {
   "cell_type": "markdown",
   "metadata": {},
   "source": [
    "Attempting to use the approximation method presented in https://pubmed.ncbi.nlm.nih.gov/29454104/."
   ]
  },
  {
   "cell_type": "markdown",
   "metadata": {},
   "source": [
    "| **Parameter or variable** | **Role** |\n",
    "|---------------------------|----------|\n",
    "| $\\mathcal{G}$            | Structural network of $N$ nodes |\n",
    "| $\\mathcal{V}$            | Set of nodes of $\\mathcal{G}$ |\n",
    "| $\\mathcal{V}_i$          | $i$th node of $\\mathcal{G}$ |\n",
    "| $\\mathcal{E}$            | Set of edges of $\\mathcal{G}$ |\n",
    "| $\\mathbf{C}_s$           | Structural connectivity matrix |\n",
    "| $C_{ij}$                 | Element $(i,j)$ of $\\mathbf{C}_s$ |\n",
    "| $\\mathbf{C}_f$           | Functional connectivity matrix |\n",
    "| $\\mathbf{C}_f^{GD}$      | Graph diffusion estimate of $\\mathbf{C}_f$ |\n",
    "| $\\mathbf{C}_f^{eig}$     | Eigen decomposition estimate of $\\mathbf{C}_f$ |\n",
    "| $\\delta_i$               | Weighted degree of node $i$ |\n",
    "| $\\mathcal{L}$            | Laplacian of $\\mathbf{C}_s$ |\n",
    "| $\\mathbf{U}_l$           | Eigenvectors of $\\mathcal{L}$ |\n",
    "| $\\Lambda_l$              | Eigenvalues of $\\mathcal{L}$ |\n",
    "| $\\Lambda_f^{eig}$        | Proposed model eigenvalues |\n",
    "| $\\Lambda_f^{GD}$         | Eigenvalues of the GD model |\n",
    "| $\\mathbf{u}_i$           | $i$th eigenvector of $\\mathcal{L}$ |\n",
    "| $\\Delta$                 | Diagonal degree matrix of $\\mathbf{C}_s$ |\n",
    "| $\\beta$                  | Diffusion rate |\n"
   ]
  },
  {
   "cell_type": "markdown",
   "metadata": {},
   "source": [
    "$\\mathbf{C}_f^{eig} = \\sum_{i \\in M} u_i u_i^{\\prime} \\left(a e^{-\\alpha \\lambda_i} + b\\right)$\n",
    "\n",
    "$M$ is a subset of indices of eigenvectors to use for the approximation."
   ]
  },
  {
   "cell_type": "code",
   "execution_count": 187,
   "metadata": {},
   "outputs": [],
   "source": [
    "import numpy as np\n",
    "from scipy.sparse.linalg import eigsh"
   ]
  },
  {
   "cell_type": "code",
   "execution_count": 188,
   "metadata": {},
   "outputs": [],
   "source": [
    "def compute_C_f(M, U, L, a, alpha, b):\n",
    "    '''\n",
    "    M: subset of indices\n",
    "    U: eigenvector matrix\n",
    "    L: eigenvalue matrix\n",
    "    '''\n",
    "\n",
    "    n, m = U.shape\n",
    "    Cf_eig = np.zeros((n, n))\n",
    "    \n",
    "    M = min(M, m)\n",
    "    \n",
    "    for i in range(M):\n",
    "        u_i = U[:, i].reshape(-1, 1) \n",
    "        term = a * np.exp(-alpha * L[i]) + b \n",
    "        Cf_eig += term * (u_i @ u_i.T)\n",
    "        \n",
    "    return Cf_eig"
   ]
  },
  {
   "cell_type": "code",
   "execution_count": 189,
   "metadata": {},
   "outputs": [],
   "source": [
    "def get_spectrum(C):\n",
    "    evals, evecs = np.linalg.eig(C)\n",
    "\n",
    "    sorted_indices = np.argsort(evals)\n",
    "    sorted_eigenvalues = evals[sorted_indices]\n",
    "    sorted_eigenvectors = evecs[:, sorted_indices]\n",
    "    \n",
    "    return sorted_eigenvalues, sorted_eigenvectors"
   ]
  },
  {
   "cell_type": "code",
   "execution_count": 190,
   "metadata": {},
   "outputs": [],
   "source": [
    "def get_laplacian(C):\n",
    "    D = np.diag(np.sum(C, axis=1))\n",
    "    laplacian = D - C\n",
    "\n",
    "    return laplacian"
   ]
  },
  {
   "cell_type": "code",
   "execution_count": 191,
   "metadata": {},
   "outputs": [],
   "source": [
    "from Connectome import *"
   ]
  },
  {
   "cell_type": "code",
   "execution_count": 192,
   "metadata": {},
   "outputs": [],
   "source": [
    "connectome = Connectome(file='/Users/shamanthk/Documents/Research/IS-modeling-connectomes/Averaged_1015.graphml', label='Average')\n",
    "C_s = connectome.read_matrix()\n",
    "net = connectome.read_net(use_3d=True)\n",
    "C_s = nx.to_numpy_array(net, weight='FA_mean')"
   ]
  },
  {
   "cell_type": "code",
   "execution_count": 193,
   "metadata": {},
   "outputs": [],
   "source": [
    "L_s = get_laplacian(C_s)\n",
    "\n",
    "L_s_evals, L_s_evecs = get_spectrum(L_s)"
   ]
  },
  {
   "cell_type": "code",
   "execution_count": 194,
   "metadata": {},
   "outputs": [],
   "source": [
    "a = 1.0\n",
    "b = 0.5\n",
    "alpha = 0.1\n",
    "M = 6\n",
    "\n",
    "C_f = compute_C_f(M, L_s_evecs, L_s_evals, a, alpha, b)\n",
    "\n",
    "C_f_evals, C_f_evecs = get_spectrum(C_f)\n",
    "C_f_evals, C_f_evecs = np.real(C_f_evals), np.real(C_f_evecs)\n",
    "C_s_evals, C_s_evecs = get_spectrum(C_s)\n",
    "C_s_evals, C_s_evecs = np.real(C_s_evals), np.real(C_s_evecs)"
   ]
  },
  {
   "cell_type": "code",
   "execution_count": 203,
   "metadata": {},
   "outputs": [
    {
     "data": {
      "text/plain": [
       "array([-0.44951894,  0.04327617,  0.00319864, ...,  0.02043194,\n",
       "        0.00191866, -0.01079687])"
      ]
     },
     "execution_count": 203,
     "metadata": {},
     "output_type": "execute_result"
    }
   ],
   "source": [
    "C_f_evecs[:,0]"
   ]
  },
  {
   "cell_type": "code",
   "execution_count": 204,
   "metadata": {},
   "outputs": [
    {
     "data": {
      "text/plain": [
       "array([0.00000000e+00, 4.96467490e-17, 6.02289715e-17, ...,\n",
       "       9.99879801e-01, 9.99967386e-01, 1.00000000e+00])"
      ]
     },
     "execution_count": 204,
     "metadata": {},
     "output_type": "execute_result"
    }
   ],
   "source": [
    "C_f_evals"
   ]
  },
  {
   "cell_type": "code",
   "execution_count": 205,
   "metadata": {},
   "outputs": [
    {
     "data": {
      "text/plain": [
       "array([0.00000000e+00, 1.03721169e-05, 3.82294600e-05, ...,\n",
       "       9.55087267e-01, 9.75026733e-01, 1.00000000e+00])"
      ]
     },
     "execution_count": 205,
     "metadata": {},
     "output_type": "execute_result"
    }
   ],
   "source": [
    "L_s_evals"
   ]
  },
  {
   "cell_type": "code",
   "execution_count": 196,
   "metadata": {},
   "outputs": [
    {
     "data": {
      "text/plain": [
       "array([ 3.13882410e-02,  1.02411564e-03,  1.02755743e-03, ...,\n",
       "       -5.41094148e-06,  4.17532946e-05,  6.69044101e-06])"
      ]
     },
     "execution_count": 196,
     "metadata": {},
     "output_type": "execute_result"
    }
   ],
   "source": [
    "L_s_evecs[0]"
   ]
  },
  {
   "cell_type": "code",
   "execution_count": 197,
   "metadata": {},
   "outputs": [
    {
     "data": {
      "text/plain": [
       "(1015,)"
      ]
     },
     "execution_count": 197,
     "metadata": {},
     "output_type": "execute_result"
    }
   ],
   "source": [
    "L_s_evals.shape"
   ]
  },
  {
   "cell_type": "code",
   "execution_count": 198,
   "metadata": {},
   "outputs": [
    {
     "data": {
      "text/plain": [
       "(1015, 1015)"
      ]
     },
     "execution_count": 198,
     "metadata": {},
     "output_type": "execute_result"
    }
   ],
   "source": [
    "C_s_evecs.shape"
   ]
  },
  {
   "cell_type": "markdown",
   "metadata": {},
   "source": [
    "Should they not be the same?"
   ]
  },
  {
   "cell_type": "code",
   "execution_count": 199,
   "metadata": {},
   "outputs": [],
   "source": [
    "L_s_evals = (L_s_evals - min(L_s_evals)) / (max(L_s_evals) - min(L_s_evals))\n",
    "C_f_evals = (C_f_evals - min(C_f_evals)) / (max(C_f_evals) - min(C_f_evals))"
   ]
  },
  {
   "cell_type": "code",
   "execution_count": 200,
   "metadata": {},
   "outputs": [
    {
     "data": {
      "image/png": "[encoded data removed]",
      "text/plain": [
       "<Figure size 1000x400 with 1 Axes>"
      ]
     },
     "metadata": {},
     "output_type": "display_data"
    }
   ],
   "source": [
    "from scipy.optimize import curve_fit\n",
    "\n",
    "def exponential_fit(x, a, b):\n",
    "    return a * np.exp(-b * x)\n",
    "\n",
    "params, _ = curve_fit(exponential_fit, L_s_evals, C_f_evals)\n",
    "a, b = params\n",
    "\n",
    "plt.figure(figsize=(10, 4))\n",
    "plt.scatter(L_s_evals, C_f_evals, color='b', label='Eigenvalues', alpha=0.7)\n",
    "plt.plot(L_s_evals, exponential_fit(L_s_evals, a, b), color='r', label='Exponential fitting')\n",
    "plt.title(\"FC vs Laplacian eigenvalues\")\n",
    "plt.xlabel(\"Laplacian eigenvalues\")\n",
    "plt.ylabel(\"Functional network eigenvalues\")\n",
    "plt.legend()\n",
    "plt.grid(True)\n",
    "plt.tight_layout()\n",
    "plt.show()"
   ]
  },
  {
   "cell_type": "code",
   "execution_count": 201,
   "metadata": {},
   "outputs": [
    {
     "data": {
      "text/plain": [
       "array([[0.00148543, 0.0014857 , 0.00148528, ..., 0.00148566, 0.00148569,\n",
       "        0.0014855 ],\n",
       "       [0.0014857 , 0.00148664, 0.00148608, ..., 0.00148678, 0.00148682,\n",
       "        0.00148658],\n",
       "       [0.00148528, 0.00148608, 0.00148557, ..., 0.00148619, 0.00148622,\n",
       "        0.00148601],\n",
       "       ...,\n",
       "       [0.00148566, 0.00148678, 0.00148619, ..., 0.00148697, 0.00148701,\n",
       "        0.00148677],\n",
       "       [0.00148569, 0.00148682, 0.00148622, ..., 0.00148701, 0.00148706,\n",
       "        0.00148681],\n",
       "       [0.0014855 , 0.00148658, 0.00148601, ..., 0.00148677, 0.00148681,\n",
       "        0.00148657]])"
      ]
     },
     "execution_count": 201,
     "metadata": {},
     "output_type": "execute_result"
    }
   ],
   "source": [
    "C_f"
   ]
  },
  {
   "cell_type": "code",
   "execution_count": 202,
   "metadata": {},
   "outputs": [
    {
     "data": {
      "text/plain": [
       "array([[0.        , 0.00092777, 0.00185118, ..., 0.        , 0.        ,\n",
       "        0.        ],\n",
       "       [0.00092777, 0.        , 0.00222333, ..., 0.        , 0.        ,\n",
       "        0.        ],\n",
       "       [0.00185118, 0.00222333, 0.        , ..., 0.        , 0.        ,\n",
       "        0.        ],\n",
       "       ...,\n",
       "       [0.        , 0.        , 0.        , ..., 0.        , 0.15078947,\n",
       "        0.26700513],\n",
       "       [0.        , 0.        , 0.        , ..., 0.15078947, 0.        ,\n",
       "        0.11737212],\n",
       "       [0.        , 0.        , 0.        , ..., 0.26700513, 0.11737212,\n",
       "        0.        ]])"
      ]
     },
     "execution_count": 202,
     "metadata": {},
     "output_type": "execute_result"
    }
   ],
   "source": [
    "C_s"
   ]
  },
  {
   "cell_type": "code",
   "execution_count": null,
   "metadata": {},
   "outputs": [],
   "source": []
  }
 ],
 "metadata": {
  "kernelspec": {
   "display_name": ".venv",
   "language": "python",
   "name": "python3"
  },
  "language_info": {
   "codemirror_mode": {
    "name": "ipython",
    "version": 3
   },
   "file_extension": ".py",
   "mimetype": "text/x-python",
   "name": "python",
   "nbconvert_exporter": "python",
   "pygments_lexer": "ipython3",
   "version": "3.12.6"
  }
 },
 "nbformat": 4,
 "nbformat_minor": 2
}
