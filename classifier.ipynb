{
 "cells": [
  {
   "cell_type": "code",
   "execution_count": 8,
   "metadata": {},
   "outputs": [],
   "source": [
    "import numpy as np\n",
    "import pandas as pd\n",
    "from sklearn.model_selection import train_test_split\n",
    "from sklearn.ensemble import GradientBoostingClassifier\n",
    "from sklearn.metrics import accuracy_score\n",
    "from sklearn.preprocessing import LabelEncoder\n",
    "from sklearn.preprocessing import StandardScaler\n",
    "from sklearn.model_selection import train_test_split, StratifiedKFold, RandomizedSearchCV\n",
    "from sklearn.preprocessing import LabelEncoder\n",
    "from sklearn.metrics import classification_report, confusion_matrix, accuracy_score, f1_score\n",
    "from xgboost import XGBClassifier\n",
    "\n",
    "scaler = StandardScaler()"
   ]
  },
  {
   "cell_type": "code",
   "execution_count": 11,
   "metadata": {},
   "outputs": [],
   "source": [
    "data = pd.read_csv('connectome_data.csv')\n",
    "data = data.drop(columns=['node_id', 'dn_position_x', 'dn_position_y', 'dn_position_z', 'dn_region', 'dn_hemisphere', 'dn_correspondence_id', 'dn_name'])\n",
    "data['dn_fsname'] = [label.split('_')[0] for label in data['dn_fsname']]"
   ]
  },
  {
   "cell_type": "code",
   "execution_count": 13,
   "metadata": {},
   "outputs": [
    {
     "name": "stdout",
     "output_type": "stream",
     "text": [
      "Including smallest 50 eigenvectors\n",
      "Fitting 5 folds for each of 1 candidates, totalling 5 fits\n",
      "[CV 1/5] END max_depth=14, n_estimators=150, subsample=0.5;, score=0.480 total time=29.2min\n",
      "[CV 4/5] END max_depth=14, n_estimators=150, subsample=0.5;, score=0.478 total time=29.3min\n",
      "[CV 5/5] END max_depth=14, n_estimators=150, subsample=0.5;, score=0.477 total time=29.3min\n",
      "[CV 2/5] END max_depth=14, n_estimators=150, subsample=0.5;, score=0.479 total time=29.4min\n",
      "[CV 3/5] END max_depth=14, n_estimators=150, subsample=0.5;, score=0.479 total time=29.4min\n",
      "Train Accuracy: 1.00\n",
      "Test Accuracy: 0.50\n"
     ]
    }
   ],
   "source": [
    "# num_evecs = [0,2,10,20,50,80,100,120,145]\n",
    "num_evecs = [50]\n",
    "best_models = []\n",
    "\n",
    "for i in num_evecs:\n",
    "    print(f'Including smallest {i} eigenvectors')\n",
    "    df = data.drop(columns=[f'evec{i+1}' for i in range(i,150)])\n",
    "    X = df.drop(columns=['dn_fsname'])\n",
    "    y = df['dn_fsname']\n",
    "\n",
    "    X = pd.DataFrame(scaler.fit_transform(X), columns=X.columns)\n",
    "    label_encoder = LabelEncoder()\n",
    "    y_encoded = label_encoder.fit_transform(y)\n",
    "\n",
    "    X_train, X_test, y_train, y_test = train_test_split(X, y_encoded, test_size=0.2, stratify=y_encoded, random_state=22)\n",
    "\n",
    "    model = XGBClassifier(random_state=22)\n",
    "\n",
    "    param_dist = {\n",
    "        \"n_estimators\": [50, 100, 150],\n",
    "        \"max_depth\": [10, 12, 14, 16],\n",
    "        \"subsample\": [0.5, 0.6, 0.7, 0.8],\n",
    "    }\n",
    "\n",
    "    cv = StratifiedKFold(n_splits=5, shuffle=True, random_state=22)\n",
    "    random_search = RandomizedSearchCV(\n",
    "        model, param_distributions=param_dist, scoring='accuracy', n_iter=1, cv=cv, random_state=22, n_jobs=-1, verbose=3\n",
    "    )\n",
    "    random_search.fit(X_train, y_train)\n",
    "\n",
    "    best_model = random_search.best_estimator_\n",
    "\n",
    "    y_pred = best_model.predict(X_test)\n",
    "\n",
    "    train_acc = accuracy_score(y_train, best_model.predict(X_train))\n",
    "    test_acc = accuracy_score(y_test, y_pred)\n",
    "    print(f\"Train Accuracy: {train_acc:.2f}\")\n",
    "    print(f\"Test Accuracy: {test_acc:.2f}\")\n",
    "\n",
    "    best_models.append({\n",
    "        'model': best_model,\n",
    "        'train_acc': train_acc,\n",
    "        'test_acc': test_acc,\n",
    "        'num_evecs': i\n",
    "    })"
   ]
  },
  {
   "cell_type": "code",
   "execution_count": null,
   "metadata": {},
   "outputs": [],
   "source": [
    "from joblib import dump, load\n",
    "\n",
    "dump(best_models, './trained_models/multiclass_models')"
   ]
  },
  {
   "cell_type": "code",
   "execution_count": null,
   "metadata": {},
   "outputs": [],
   "source": [
    "train_acc_list = [model['train_acc'] for model in best_models]\n",
    "\n",
    "test_acc_list = [model['test_acc'] for model in best_models]"
   ]
  },
  {
   "cell_type": "code",
   "execution_count": null,
   "metadata": {},
   "outputs": [],
   "source": [
    "import matplotlib.pyplot as plt\n",
    "\n",
    "plt.figure(figsize=(8, 5))\n",
    "plt.plot(num_evecs, train_acc_list, marker='o', label='Training Accuracy', color='blue')\n",
    "plt.plot(num_evecs, test_acc, marker='s', label='Testing Accuracy', color='orange')\n",
    "\n",
    "plt.xlabel('Number of Eigenvectors', fontsize=12)\n",
    "plt.ylabel('Accuracy', fontsize=12)\n",
    "plt.title('Performance vs. Number of Eigenvectors', fontsize=14)\n",
    "plt.legend()\n",
    "\n",
    "plt.show()"
   ]
  }
 ],
 "metadata": {
  "kernelspec": {
   "display_name": ".venv",
   "language": "python",
   "name": "python3"
  },
  "language_info": {
   "codemirror_mode": {
    "name": "ipython",
    "version": 3
   },
   "file_extension": ".py",
   "mimetype": "text/x-python",
   "name": "python",
   "nbconvert_exporter": "python",
   "pygments_lexer": "ipython3",
   "version": "3.12.6"
  }
 },
 "nbformat": 4,
 "nbformat_minor": 2
}
