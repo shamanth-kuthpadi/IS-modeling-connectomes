{
 "cells": [
  {
   "cell_type": "code",
   "execution_count": 1,
   "metadata": {},
   "outputs": [],
   "source": [
    "# second eigenvector is important\n",
    "# plot the eigenvalues in decreasing order\n",
    "# how were the labels annotated"
   ]
  },
  {
   "cell_type": "code",
   "execution_count": 2,
   "metadata": {},
   "outputs": [],
   "source": [
    "import pandas as pd\n",
    "from sklearn.model_selection import train_test_split\n",
    "from sklearn.ensemble import RandomForestClassifier\n",
    "from sklearn.metrics import accuracy_score\n",
    "from sklearn.preprocessing import LabelEncoder"
   ]
  },
  {
   "cell_type": "code",
   "execution_count": 3,
   "metadata": {},
   "outputs": [],
   "source": [
    "data = pd.read_csv('connectome_datav2.csv')"
   ]
  },
  {
   "cell_type": "code",
   "execution_count": 4,
   "metadata": {},
   "outputs": [
    {
     "data": {
      "text/plain": [
       "(817382, 6)"
      ]
     },
     "execution_count": 4,
     "metadata": {},
     "output_type": "execute_result"
    }
   ],
   "source": [
    "data.shape"
   ]
  },
  {
   "cell_type": "code",
   "execution_count": 5,
   "metadata": {},
   "outputs": [],
   "source": [
    "X = data.drop(columns=['dn_hemisphere'])\n",
    "y = data['dn_hemisphere']"
   ]
  },
  {
   "cell_type": "code",
   "execution_count": 6,
   "metadata": {},
   "outputs": [],
   "source": [
    "label_encoder = LabelEncoder()\n",
    "y_encoded = label_encoder.fit_transform(y)\n",
    "\n",
    "X_train, X_test, y_train, y_test = train_test_split(X, y_encoded, test_size=0.2, random_state=22)\n"
   ]
  },
  {
   "cell_type": "code",
   "execution_count": 11,
   "metadata": {},
   "outputs": [
    {
     "name": "stdout",
     "output_type": "stream",
     "text": [
      "Fitting 5 folds for each of 9 candidates, totalling 45 fits\n",
      "[CV] END ...................max_depth=None, n_estimators=100; total time= 3.0min\n",
      "[CV] END ...................max_depth=None, n_estimators=100; total time= 3.0min\n",
      "[CV] END ...................max_depth=None, n_estimators=100; total time= 3.0min\n",
      "[CV] END ...................max_depth=None, n_estimators=100; total time= 3.0min\n",
      "[CV] END ...................max_depth=None, n_estimators=100; total time= 3.0min\n",
      "[CV] END .....................max_depth=10, n_estimators=100; total time= 1.7min\n",
      "[CV] END ...................max_depth=None, n_estimators=200; total time= 6.1min\n",
      "[CV] END ...................max_depth=None, n_estimators=200; total time= 6.2min\n",
      "[CV] END ...................max_depth=None, n_estimators=200; total time= 6.2min\n",
      "[CV] END ...................max_depth=None, n_estimators=200; total time= 6.2min\n",
      "[CV] END ...................max_depth=None, n_estimators=200; total time= 6.2min\n",
      "[CV] END .....................max_depth=10, n_estimators=100; total time= 1.8min\n",
      "[CV] END .....................max_depth=10, n_estimators=100; total time= 1.8min\n",
      "[CV] END .....................max_depth=10, n_estimators=100; total time= 1.7min\n",
      "[CV] END .....................max_depth=10, n_estimators=100; total time= 1.8min\n",
      "[CV] END ...................max_depth=None, n_estimators=300; total time= 9.3min\n",
      "[CV] END .....................max_depth=10, n_estimators=200; total time= 3.5min\n",
      "[CV] END .....................max_depth=10, n_estimators=200; total time= 3.5min\n",
      "[CV] END .....................max_depth=10, n_estimators=200; total time= 3.5min\n",
      "[CV] END .....................max_depth=10, n_estimators=200; total time= 3.6min\n",
      "[CV] END .....................max_depth=10, n_estimators=200; total time= 3.6min\n",
      "[CV] END ...................max_depth=None, n_estimators=300; total time= 9.5min\n",
      "[CV] END ...................max_depth=None, n_estimators=300; total time= 9.6min\n",
      "[CV] END ...................max_depth=None, n_estimators=300; total time= 9.6min\n",
      "[CV] END ...................max_depth=None, n_estimators=300; total time= 9.6min\n",
      "[CV] END .....................max_depth=10, n_estimators=300; total time= 5.5min\n",
      "[CV] END .....................max_depth=20, n_estimators=100; total time= 2.9min\n",
      "[CV] END .....................max_depth=20, n_estimators=100; total time= 2.9min\n"
     ]
    },
    {
     "name": "stderr",
     "output_type": "stream",
     "text": [
      "/Users/shamanthk/Documents/Research/IS-modeling-connectomes/.venv/lib/python3.12/site-packages/joblib/externals/loky/process_executor.py:752: UserWarning: A worker stopped while some jobs were given to the executor. This can be caused by a too short worker timeout or by a memory leak.\n",
      "  warnings.warn(\n"
     ]
    },
    {
     "name": "stdout",
     "output_type": "stream",
     "text": [
      "[CV] END .....................max_depth=10, n_estimators=300; total time= 5.5min\n",
      "[CV] END .....................max_depth=10, n_estimators=300; total time= 5.5min\n",
      "[CV] END .....................max_depth=10, n_estimators=300; total time= 5.5min\n",
      "[CV] END .....................max_depth=20, n_estimators=100; total time= 2.8min\n",
      "[CV] END .....................max_depth=20, n_estimators=100; total time= 2.8min\n",
      "[CV] END .....................max_depth=10, n_estimators=300; total time= 5.5min\n",
      "[CV] END .....................max_depth=20, n_estimators=100; total time= 2.9min\n",
      "[CV] END .....................max_depth=20, n_estimators=200; total time= 5.4min\n",
      "[CV] END .....................max_depth=20, n_estimators=200; total time= 5.3min\n",
      "[CV] END .....................max_depth=20, n_estimators=200; total time= 5.0min\n",
      "[CV] END .....................max_depth=20, n_estimators=200; total time= 5.0min\n",
      "[CV] END .....................max_depth=20, n_estimators=200; total time= 5.0min\n",
      "[CV] END .....................max_depth=20, n_estimators=300; total time= 6.7min\n",
      "[CV] END .....................max_depth=20, n_estimators=300; total time= 6.7min\n",
      "[CV] END .....................max_depth=20, n_estimators=300; total time= 6.6min\n",
      "[CV] END .....................max_depth=20, n_estimators=300; total time= 6.6min\n",
      "[CV] END .....................max_depth=20, n_estimators=300; total time= 6.6min\n",
      "Best Parameters: {'max_depth': 20, 'n_estimators': 300}\n",
      "Best Cross-Validation Accuracy: 0.7201382463813552\n",
      "Test Set Accuracy: 0.72\n"
     ]
    }
   ],
   "source": [
    "from sklearn.model_selection import GridSearchCV\n",
    "\n",
    "param_grid = {\n",
    "    'n_estimators': [100, 200, 300],\n",
    "    'max_depth': [None, 10, 20]\n",
    "}\n",
    "\n",
    "grid_search = GridSearchCV(\n",
    "    estimator=RandomForestClassifier(random_state=22),\n",
    "    param_grid=param_grid,\n",
    "    scoring='accuracy',\n",
    "    cv=5,\n",
    "    verbose=2,\n",
    "    n_jobs=-1\n",
    ")\n",
    "\n",
    "grid_search.fit(X_train, y_train)\n",
    "\n",
    "print(\"Best Parameters:\", grid_search.best_params_)\n",
    "print(\"Best Cross-Validation Accuracy:\", grid_search.best_score_)\n",
    "\n",
    "best_model = grid_search.best_estimator_\n",
    "y_pred = best_model.predict(X_test)\n",
    "accuracy = accuracy_score(y_test, y_pred)\n",
    "print(f\"Test Set Accuracy: {accuracy:.2f}\")"
   ]
  },
  {
   "cell_type": "code",
   "execution_count": 13,
   "metadata": {},
   "outputs": [
    {
     "data": {
      "image/png": "[encoded data removed]",
      "text/plain": [
       "<Figure size 1000x600 with 1 Axes>"
      ]
     },
     "metadata": {},
     "output_type": "display_data"
    }
   ],
   "source": [
    "import matplotlib.pyplot as plt\n",
    "\n",
    "feature_importances = best_model.feature_importances_\n",
    "features = X.columns\n",
    "\n",
    "plt.figure(figsize=(10, 6))\n",
    "plt.barh(features, feature_importances, color='skyblue')\n",
    "plt.xlabel(\"Feature Importance\")\n",
    "plt.title(\"Feature Importance in Random Forest Classifier\")\n",
    "plt.show()"
   ]
  },
  {
   "cell_type": "code",
   "execution_count": null,
   "metadata": {},
   "outputs": [],
   "source": []
  }
 ],
 "metadata": {
  "kernelspec": {
   "display_name": ".venv",
   "language": "python",
   "name": "python3"
  },
  "language_info": {
   "codemirror_mode": {
    "name": "ipython",
    "version": 3
   },
   "file_extension": ".py",
   "mimetype": "text/x-python",
   "name": "python",
   "nbconvert_exporter": "python",
   "pygments_lexer": "ipython3",
   "version": "3.12.6"
  }
 },
 "nbformat": 4,
 "nbformat_minor": 2
}
